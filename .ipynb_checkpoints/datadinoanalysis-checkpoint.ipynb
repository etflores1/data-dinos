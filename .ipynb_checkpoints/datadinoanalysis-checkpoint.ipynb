{
 "cells": [
  {
   "cell_type": "code",
   "execution_count": 14,
   "id": "accac8c4",
   "metadata": {},
   "outputs": [],
   "source": [
    "import numpy as np\n",
    "import pandas as pd\n",
    "import os\n",
    "import pandas as pd\n",
    "from PIL import Image"
   ]
  },
  {
   "cell_type": "code",
   "execution_count": 15,
   "id": "c319483b",
   "metadata": {},
   "outputs": [],
   "source": [
    "def df_image_converter(main_folder_path):\n",
    "    main_folder = main_folder_path  # Replace with the path to your main folder\n",
    "    labels = []\n",
    "    images = []\n",
    "\n",
    "    # iterating over each sub folder in the main \n",
    "    for sub_folder in os.listdir(main_folder):\n",
    "        sub_folder_path = os.path.join(main_folder, sub_folder)\n",
    "\n",
    "        # iterating over image in each sub folder\n",
    "        for image_name in os.listdir(sub_folder_path):\n",
    "            image_path = os.path.join(sub_folder_path, image_name)\n",
    "            \n",
    "            # image processecing with grayscaling and resizing\n",
    "            img = Image.open(image_path)\n",
    "            img = img.convert(\"L\")\n",
    "            img = img.resize((250, 250))\n",
    "\n",
    "            # appending specific dinosaur species with label\n",
    "            labels.append(sub_folder)\n",
    "            images.append(img)\n",
    "\n",
    "    # dataframe with species and image path\n",
    "    df = pd.DataFrame({'Dinosaur Species': labels, 'Dinosaur Images':images})\n",
    "    return df"
   ]
  },
  {
   "cell_type": "code",
   "execution_count": 16,
   "id": "251f8cc5",
   "metadata": {},
   "outputs": [
    {
     "ename": "UnidentifiedImageError",
     "evalue": "cannot identify image file 'dinosaurpics_scraped\\\\ankylosaurus\\\\Ankylosaurus_600.jpg'",
     "output_type": "error",
     "traceback": [
      "\u001b[1;31m---------------------------------------------------------------------------\u001b[0m",
      "\u001b[1;31mUnidentifiedImageError\u001b[0m                    Traceback (most recent call last)",
      "Cell \u001b[1;32mIn[16], line 1\u001b[0m\n\u001b[1;32m----> 1\u001b[0m dino_df \u001b[38;5;241m=\u001b[39m df_image_converter(\u001b[38;5;124m\"\u001b[39m\u001b[38;5;124mdinosaurpics_scraped\u001b[39m\u001b[38;5;124m\"\u001b[39m)\n\u001b[0;32m      2\u001b[0m dino_df\n",
      "Cell \u001b[1;32mIn[15], line 15\u001b[0m, in \u001b[0;36mdf_image_converter\u001b[1;34m(main_folder_path)\u001b[0m\n\u001b[0;32m     12\u001b[0m image_path \u001b[38;5;241m=\u001b[39m os\u001b[38;5;241m.\u001b[39mpath\u001b[38;5;241m.\u001b[39mjoin(sub_folder_path, image_name)\n\u001b[0;32m     14\u001b[0m \u001b[38;5;66;03m# image processecing with grayscaling and resizing\u001b[39;00m\n\u001b[1;32m---> 15\u001b[0m img \u001b[38;5;241m=\u001b[39m Image\u001b[38;5;241m.\u001b[39mopen(image_path)\n\u001b[0;32m     16\u001b[0m img \u001b[38;5;241m=\u001b[39m img\u001b[38;5;241m.\u001b[39mconvert(\u001b[38;5;124m\"\u001b[39m\u001b[38;5;124mL\u001b[39m\u001b[38;5;124m\"\u001b[39m)\n\u001b[0;32m     17\u001b[0m img \u001b[38;5;241m=\u001b[39m img\u001b[38;5;241m.\u001b[39mresize((\u001b[38;5;241m250\u001b[39m, \u001b[38;5;241m250\u001b[39m))\n",
      "File \u001b[1;32m~\\anaconda3\\Lib\\site-packages\\PIL\\Image.py:3283\u001b[0m, in \u001b[0;36mopen\u001b[1;34m(fp, mode, formats)\u001b[0m\n\u001b[0;32m   3281\u001b[0m     warnings\u001b[38;5;241m.\u001b[39mwarn(message)\n\u001b[0;32m   3282\u001b[0m msg \u001b[38;5;241m=\u001b[39m \u001b[38;5;124m\"\u001b[39m\u001b[38;5;124mcannot identify image file \u001b[39m\u001b[38;5;132;01m%r\u001b[39;00m\u001b[38;5;124m\"\u001b[39m \u001b[38;5;241m%\u001b[39m (filename \u001b[38;5;28;01mif\u001b[39;00m filename \u001b[38;5;28;01melse\u001b[39;00m fp)\n\u001b[1;32m-> 3283\u001b[0m \u001b[38;5;28;01mraise\u001b[39;00m UnidentifiedImageError(msg)\n",
      "\u001b[1;31mUnidentifiedImageError\u001b[0m: cannot identify image file 'dinosaurpics_scraped\\\\ankylosaurus\\\\Ankylosaurus_600.jpg'"
     ]
    }
   ],
   "source": [
    "dino_df = df_image_converter(\"dinosaurpics_scraped\")\n",
    "dino_df"
   ]
  },
  {
   "cell_type": "code",
   "execution_count": 9,
   "id": "beec9b4b",
   "metadata": {},
   "outputs": [],
   "source": [
    "import torch\n",
    "import torch.nn as nn\n",
    "import torch.optim as optim\n",
    "from torch.utils.data import Dataset, DataLoader\n",
    "from torchvision import transforms, models\n",
    "from torchvision.datasets import ImageFolder"
   ]
  },
  {
   "cell_type": "code",
   "execution_count": 10,
   "id": "91845371",
   "metadata": {},
   "outputs": [],
   "source": [
    "class DinosaurDataset(Dataset):\n",
    "    def __init__(self, folder_directory, transform=None):\n",
    "        self.data = ImageFolder(folder_directory, transform=transform)\n",
    "        \n",
    "    def __len__(self):\n",
    "        return len(self.data)\n",
    "    \n",
    "    def __getitem__(self, index):\n",
    "        return self.data[index]"
   ]
  },
  {
   "cell_type": "code",
   "execution_count": 11,
   "id": "08dbd8ef",
   "metadata": {},
   "outputs": [],
   "source": [
    "transform = transforms.Compose([\n",
    "    transforms.Resize((250, 250)),\n",
    "    transforms.ToTensor(),\n",
    "])\n",
    "\n",
    "dino_dataset = DinosaurDataset('dinopics',transform)"
   ]
  },
  {
   "cell_type": "code",
   "execution_count": 12,
   "id": "f61d9410",
   "metadata": {},
   "outputs": [],
   "source": [
    "dataloader = DataLoader(dino_dataset, batch_size = 32, shuffle=True)"
   ]
  },
  {
   "cell_type": "code",
   "execution_count": null,
   "id": "63e8a39f",
   "metadata": {},
   "outputs": [],
   "source": []
  }
 ],
 "metadata": {
  "kernelspec": {
   "display_name": "Python 3 (ipykernel)",
   "language": "python",
   "name": "python3"
  },
  "language_info": {
   "codemirror_mode": {
    "name": "ipython",
    "version": 3
   },
   "file_extension": ".py",
   "mimetype": "text/x-python",
   "name": "python",
   "nbconvert_exporter": "python",
   "pygments_lexer": "ipython3",
   "version": "3.11.5"
  }
 },
 "nbformat": 4,
 "nbformat_minor": 5
}
