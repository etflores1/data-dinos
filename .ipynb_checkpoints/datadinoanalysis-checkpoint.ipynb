{
 "cells": [
  {
   "cell_type": "code",
   "execution_count": 1,
   "id": "beec9b4b",
   "metadata": {},
   "outputs": [],
   "source": [
    "# Import dependencies\n",
    "import torch\n",
    "import torch.nn as nn\n",
    "import torch.optim as optim\n",
    "import matplotlib.pyplot as plt\n",
    "from torch.utils.data import Dataset, DataLoader\n",
    "from torchvision import transforms, models\n",
    "from torchvision.models import resnet50\n",
    "from torchvision.datasets import ImageFolder\n",
    "from tqdm.notebook import tqdm"
   ]
  },
  {
   "cell_type": "code",
   "execution_count": 2,
   "id": "45e0f2b6",
   "metadata": {},
   "outputs": [
    {
     "data": {
      "text/html": [
       "\n",
       "        <iframe\n",
       "            width=\"400\"\n",
       "            height=\"100\"\n",
       "            src=\"https://open.spotify.com/embed/track/2TZbQZXOuR8osP2AK8yYMN?\"\n",
       "            frameborder=\"0\"\n",
       "            allowfullscreen\n",
       "            \n",
       "        ></iframe>\n",
       "        "
      ],
      "text/plain": [
       "<IPython.lib.display.IFrame at 0x169688450>"
      ]
     },
     "metadata": {},
     "output_type": "display_data"
    }
   ],
   "source": [
    "from IPython.display import IFrame, display\n",
    "\n",
    "uri = \"2TZbQZXOuR8osP2AK8yYMN\"\n",
    "playable_link = f\"https://open.spotify.com/embed/track/{uri}?\"\n",
    "display(IFrame(playable_link, 400,100)) "
   ]
  },
  {
   "cell_type": "code",
   "execution_count": 3,
   "id": "91845371",
   "metadata": {},
   "outputs": [],
   "source": [
    "# Define dinosaur dataset object for all folders of images\n",
    "class DinosaurDataset(Dataset):\n",
    "    def __init__(self, folder_directory, transform=None):\n",
    "        self.data = ImageFolder(folder_directory, transform=transform)\n",
    "        \n",
    "    def __len__(self):\n",
    "        return len(self.data)\n",
    "    \n",
    "    def __getitem__(self, index):\n",
    "        return self.data[index]"
   ]
  },
  {
   "cell_type": "code",
   "execution_count": 4,
   "id": "d10954ff",
   "metadata": {},
   "outputs": [],
   "source": [
    "# Define transoformers to resize and convert to tensor\n",
    "transform = transforms.Compose([\n",
    "    transforms.Resize((250, 250)),\n",
    "    transforms.ToTensor(),\n",
    "])\n",
    "\n",
    "dino_dataset = DinosaurDataset('dinosaurpics_scraped',transform)"
   ]
  },
  {
   "cell_type": "code",
   "execution_count": 5,
   "id": "52cf7f85",
   "metadata": {},
   "outputs": [],
   "source": [
    "# Train-test splits: 70% training, 15% validation, 15% testing\n",
    "train_size = int(0.7 * len(dino_dataset))  \n",
    "val_size = int(0.15 * len(dino_dataset))   \n",
    "test_size = len(dino_dataset) - train_size - val_size\n",
    "\n",
    "train_dataset, val_dataset, test_dataset = torch.utils.data.random_split(\n",
    "    dino_dataset, [train_size, val_size, test_size]\n",
    ")\n",
    "\n",
    "# Creating data loaders to input into model\n",
    "train_loader = DataLoader(train_dataset, batch_size=8, shuffle=True)\n",
    "val_loader = DataLoader(val_dataset, batch_size=8, shuffle=False)\n",
    "test_loader = DataLoader(test_dataset, batch_size=8, shuffle=False)"
   ]
  },
  {
   "cell_type": "code",
   "execution_count": 6,
   "id": "eafb9fb3",
   "metadata": {},
   "outputs": [],
   "source": [
    "# ResNet50 model for image classification\n",
    "model = resnet50()\n",
    "num_ftrs = model.fc.in_features\n",
    "model.fc = nn.Linear(num_ftrs, 10)\n",
    "\n",
    "optimizer = optim.Adam(model.parameters(), lr=0.001)"
   ]
  },
  {
   "cell_type": "code",
   "execution_count": 7,
   "id": "fb7897bb",
   "metadata": {},
   "outputs": [
    {
     "data": {
      "application/vnd.jupyter.widget-view+json": {
       "model_id": "81042c1e4a2e460d88a38b5061d1cdbe",
       "version_major": 2,
       "version_minor": 0
      },
      "text/plain": [
       "Train loop:   0%|          | 0/50 [00:00<?, ?it/s]"
      ]
     },
     "metadata": {},
     "output_type": "display_data"
    },
    {
     "name": "stderr",
     "output_type": "stream",
     "text": [
      "/Users/hikaruisayama/anaconda3/lib/python3.11/site-packages/PIL/Image.py:970: UserWarning: Palette images with Transparency expressed in bytes should be converted to RGBA images\n",
      "  warnings.warn(\n"
     ]
    },
    {
     "name": "stdout",
     "output_type": "stream",
     "text": [
      "Train loss: 144.05847918987274\n"
     ]
    },
    {
     "data": {
      "application/vnd.jupyter.widget-view+json": {
       "model_id": "15ab6dfe3e8e46d4b9c48f643f2bf475",
       "version_major": 2,
       "version_minor": 0
      },
      "text/plain": [
       "Train loop:   0%|          | 0/50 [00:00<?, ?it/s]"
      ]
     },
     "metadata": {},
     "output_type": "display_data"
    },
    {
     "name": "stdout",
     "output_type": "stream",
     "text": [
      "Train loss: 121.53109157085419\n"
     ]
    },
    {
     "data": {
      "application/vnd.jupyter.widget-view+json": {
       "model_id": "1b58a1bedb9b424e8fdd13cce39de05f",
       "version_major": 2,
       "version_minor": 0
      },
      "text/plain": [
       "Train loop:   0%|          | 0/50 [00:00<?, ?it/s]"
      ]
     },
     "metadata": {},
     "output_type": "display_data"
    },
    {
     "name": "stdout",
     "output_type": "stream",
     "text": [
      "Train loss: 109.33869433403015\n"
     ]
    },
    {
     "data": {
      "application/vnd.jupyter.widget-view+json": {
       "model_id": "c282f0e206764fb99bc86fda575011fb",
       "version_major": 2,
       "version_minor": 0
      },
      "text/plain": [
       "Train loop:   0%|          | 0/50 [00:00<?, ?it/s]"
      ]
     },
     "metadata": {},
     "output_type": "display_data"
    },
    {
     "name": "stdout",
     "output_type": "stream",
     "text": [
      "Train loss: 107.16990661621094\n"
     ]
    },
    {
     "data": {
      "application/vnd.jupyter.widget-view+json": {
       "model_id": "0a41fc642b48464baede3180349e51cb",
       "version_major": 2,
       "version_minor": 0
      },
      "text/plain": [
       "Train loop:   0%|          | 0/50 [00:00<?, ?it/s]"
      ]
     },
     "metadata": {},
     "output_type": "display_data"
    },
    {
     "name": "stdout",
     "output_type": "stream",
     "text": [
      "Train loss: 103.70032596588135\n"
     ]
    }
   ],
   "source": [
    "# Define loss function \n",
    "criterion = nn.CrossEntropyLoss()\n",
    "train_losses = []\n",
    "\n",
    "# Training phase\n",
    "num_epochs = 5\n",
    "for epoch in range(num_epochs):\n",
    "    model.train()\n",
    "    running_loss = 0.0\n",
    "    for inputs, labels in tqdm(train_loader, desc='Train loop'):\n",
    "        optimizer.zero_grad()\n",
    "        outputs = model(inputs)\n",
    "        # Model feedback loop\n",
    "        loss = criterion(outputs, labels)\n",
    "        loss.backward()\n",
    "        optimizer.step()\n",
    "        running_loss += loss.item() # Calculating loss\n",
    "    print(\"Train loss: \" + str(running_loss))\n",
    "    train_loss = running_loss / len(train_loader.dataset)\n",
    "    train_losses.append(train_loss)"
   ]
  },
  {
   "cell_type": "code",
   "execution_count": 8,
   "id": "5f29e01f",
   "metadata": {},
   "outputs": [
    {
     "data": {
      "application/vnd.jupyter.widget-view+json": {
       "model_id": "e3ffc0b47e744a5f97d99e1cc26a502c",
       "version_major": 2,
       "version_minor": 0
      },
      "text/plain": [
       "Data Loader:   0%|          | 0/11 [00:00<?, ?it/s]"
      ]
     },
     "metadata": {},
     "output_type": "display_data"
    },
    {
     "name": "stdout",
     "output_type": "stream",
     "text": [
      "Validation Accuracy: 0.2262\n"
     ]
    },
    {
     "data": {
      "application/vnd.jupyter.widget-view+json": {
       "model_id": "fe33c3ef582b480bad6f221142bff381",
       "version_major": 2,
       "version_minor": 0
      },
      "text/plain": [
       "Data Loader:   0%|          | 0/11 [00:00<?, ?it/s]"
      ]
     },
     "metadata": {},
     "output_type": "display_data"
    },
    {
     "name": "stdout",
     "output_type": "stream",
     "text": [
      "Testing Accuracy: 0.2442\n"
     ]
    }
   ],
   "source": [
    "# Evaluating model\n",
    "model.eval()  \n",
    "\n",
    "# Calculating accuracy of test_loader\n",
    "def calculate_accuracy(model, dataloader):\n",
    "    correct = 0\n",
    "    total = 0\n",
    "    with torch.no_grad():\n",
    "        for images, labels in tqdm(dataloader, desc='Data Loader'):\n",
    "            outputs = model(images)\n",
    "            _, predicted = torch.max(outputs, 1)\n",
    "            total += labels.size(0)\n",
    "            correct += (predicted == labels).sum().item()\n",
    "    accuracy = correct / total\n",
    "    return accuracy\n",
    "\n",
    "# Calculate accuracy on validation set and testing set\n",
    "val_accuracy = calculate_accuracy(model, val_loader)\n",
    "print(f'Validation Accuracy: {val_accuracy:.4f}')\n",
    "val_accuracy = calculate_accuracy(model, test_loader)\n",
    "print(f'Testing Accuracy: {val_accuracy:.4f}')"
   ]
  },
  {
   "cell_type": "code",
   "execution_count": 9,
   "id": "7a9b8c31",
   "metadata": {},
   "outputs": [],
   "source": [
    "\n",
    "# resnet 50: Validation Accuracy: 0.1998, batch size = 8\n",
    "# resnet 18: Train loss at epoch 5: Validation Accuracy: [0.2558, 0.3256], batch size = 8\n",
    "# resnet 18: Train lossat epoch 5: 59, Validation Accuracy: 0.1860, batch size = 12\n",
    "# resnet 18: Train loss at epoch 5: 137,Validation Accuracy: [0.2209], batch size = 6\n",
    "# resnet 50: Train loss at epoch 5: Validation Accuracy: 0.3023, batch size = 8\n",
    "# resnet 50: Train loss at epoch 8: 94.669, Validation Accuracy: 0.1923, batch size = 8\n",
    "# resnet 50: Train loss at epoch 4: 94.669, Validation Accuracy: 0.1923, batch size = 8 \n",
    "\n",
    "\n",
    "# decreasing loss without a increase in accuracy could indicate overfitting.\n"
   ]
  },
  {
   "cell_type": "code",
   "execution_count": 10,
   "id": "ea23371e",
   "metadata": {},
   "outputs": [
    {
     "data": {
      "image/png": "[encoded data removed]",
      "text/plain": [
       "<Figure size 640x480 with 1 Axes>"
      ]
     },
     "metadata": {},
     "output_type": "display_data"
    }
   ],
   "source": [
    "# Plotting losses\n",
    "plt.plot(train_losses, label=\"Training loss\")\n",
    "plt.title(\"Loss over epochs\")\n",
    "plt.show()"
   ]
  },
  {
   "cell_type": "code",
   "execution_count": null,
   "id": "047b71da",
   "metadata": {},
   "outputs": [],
   "source": []
  }
 ],
 "metadata": {
  "kernelspec": {
   "display_name": "Python 3 (ipykernel)",
   "language": "python",
   "name": "python3"
  },
  "language_info": {
   "codemirror_mode": {
    "name": "ipython",
    "version": 3
   },
   "file_extension": ".py",
   "mimetype": "text/x-python",
   "name": "python",
   "nbconvert_exporter": "python",
   "pygments_lexer": "ipython3",
   "version": "3.10.9"
  }
 },
 "nbformat": 4,
 "nbformat_minor": 5
}
