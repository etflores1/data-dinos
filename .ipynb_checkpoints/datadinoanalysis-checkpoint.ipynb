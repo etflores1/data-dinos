{
 "cells": [
  {
   "cell_type": "code",
   "execution_count": 36,
   "id": "accac8c4",
   "metadata": {},
   "outputs": [],
   "source": [
    "import numpy as np\n",
    "import pandas as pd\n",
    "import os\n",
    "import pandas as pd\n",
    "from PIL import Image"
   ]
  },
  {
   "cell_type": "code",
   "execution_count": 40,
   "id": "c319483b",
   "metadata": {},
   "outputs": [],
   "source": [
    "def df_image_converter(main_folder_path):\n",
    "    main_folder = main_folder_path  # Replace with the path to your main folder\n",
    "    labels = []\n",
    "    images = []\n",
    "\n",
    "    # iterating over each sub folder in the main \n",
    "    for sub_folder in os.listdir(main_folder):\n",
    "        sub_folder_path = os.path.join(main_folder, sub_folder)\n",
    "\n",
    "        # iterating over image in each sub folder\n",
    "        for image_name in os.listdir(sub_folder_path):\n",
    "            image_path = os.path.join(sub_folder_path, image_name)\n",
    "            \n",
    "            # image processecing with grayscaling and resizing\n",
    "            img = Image.open(image_path)\n",
    "            img = img.convert(\"L\")\n",
    "            img = img.resize((250, 250))\n",
    "\n",
    "            # appending specific dinosaur species with label\n",
    "            labels.append(sub_folder)\n",
    "            images.append(img)\n",
    "\n",
    "    # dataframe with species and image path\n",
    "    df = pd.DataFrame({'Dinosaur Species': labels, 'Dinosaur Images':images})\n",
    "    return df"
   ]
  },
  {
   "cell_type": "code",
   "execution_count": 41,
   "id": "251f8cc5",
   "metadata": {},
   "outputs": [
    {
     "data": {
      "text/html": [
       "<div>\n",
       "<style scoped>\n",
       "    .dataframe tbody tr th:only-of-type {\n",
       "        vertical-align: middle;\n",
       "    }\n",
       "\n",
       "    .dataframe tbody tr th {\n",
       "        vertical-align: top;\n",
       "    }\n",
       "\n",
       "    .dataframe thead th {\n",
       "        text-align: right;\n",
       "    }\n",
       "</style>\n",
       "<table border=\"1\" class=\"dataframe\">\n",
       "  <thead>\n",
       "    <tr style=\"text-align: right;\">\n",
       "      <th></th>\n",
       "      <th>Dinosaur Species</th>\n",
       "      <th>Dinosaur Images</th>\n",
       "    </tr>\n",
       "  </thead>\n",
       "  <tbody>\n",
       "    <tr>\n",
       "      <th>0</th>\n",
       "      <td>ankylosaurus</td>\n",
       "      <td>&lt;PIL.Image.Image image mode=L size=250x250 at ...</td>\n",
       "    </tr>\n",
       "    <tr>\n",
       "      <th>1</th>\n",
       "      <td>ankylosaurus</td>\n",
       "      <td>&lt;PIL.Image.Image image mode=L size=250x250 at ...</td>\n",
       "    </tr>\n",
       "    <tr>\n",
       "      <th>2</th>\n",
       "      <td>ankylosaurus</td>\n",
       "      <td>&lt;PIL.Image.Image image mode=L size=250x250 at ...</td>\n",
       "    </tr>\n",
       "    <tr>\n",
       "      <th>3</th>\n",
       "      <td>ankylosaurus</td>\n",
       "      <td>&lt;PIL.Image.Image image mode=L size=250x250 at ...</td>\n",
       "    </tr>\n",
       "    <tr>\n",
       "      <th>4</th>\n",
       "      <td>ankylosaurus</td>\n",
       "      <td>&lt;PIL.Image.Image image mode=L size=250x250 at ...</td>\n",
       "    </tr>\n",
       "    <tr>\n",
       "      <th>...</th>\n",
       "      <td>...</td>\n",
       "      <td>...</td>\n",
       "    </tr>\n",
       "    <tr>\n",
       "      <th>195</th>\n",
       "      <td>triceratops</td>\n",
       "      <td>&lt;PIL.Image.Image image mode=L size=250x250 at ...</td>\n",
       "    </tr>\n",
       "    <tr>\n",
       "      <th>196</th>\n",
       "      <td>triceratops</td>\n",
       "      <td>&lt;PIL.Image.Image image mode=L size=250x250 at ...</td>\n",
       "    </tr>\n",
       "    <tr>\n",
       "      <th>197</th>\n",
       "      <td>triceratops</td>\n",
       "      <td>&lt;PIL.Image.Image image mode=L size=250x250 at ...</td>\n",
       "    </tr>\n",
       "    <tr>\n",
       "      <th>198</th>\n",
       "      <td>triceratops</td>\n",
       "      <td>&lt;PIL.Image.Image image mode=L size=250x250 at ...</td>\n",
       "    </tr>\n",
       "    <tr>\n",
       "      <th>199</th>\n",
       "      <td>triceratops</td>\n",
       "      <td>&lt;PIL.Image.Image image mode=L size=250x250 at ...</td>\n",
       "    </tr>\n",
       "  </tbody>\n",
       "</table>\n",
       "<p>200 rows × 2 columns</p>\n",
       "</div>"
      ],
      "text/plain": [
       "    Dinosaur Species                                    Dinosaur Images\n",
       "0       ankylosaurus  <PIL.Image.Image image mode=L size=250x250 at ...\n",
       "1       ankylosaurus  <PIL.Image.Image image mode=L size=250x250 at ...\n",
       "2       ankylosaurus  <PIL.Image.Image image mode=L size=250x250 at ...\n",
       "3       ankylosaurus  <PIL.Image.Image image mode=L size=250x250 at ...\n",
       "4       ankylosaurus  <PIL.Image.Image image mode=L size=250x250 at ...\n",
       "..               ...                                                ...\n",
       "195      triceratops  <PIL.Image.Image image mode=L size=250x250 at ...\n",
       "196      triceratops  <PIL.Image.Image image mode=L size=250x250 at ...\n",
       "197      triceratops  <PIL.Image.Image image mode=L size=250x250 at ...\n",
       "198      triceratops  <PIL.Image.Image image mode=L size=250x250 at ...\n",
       "199      triceratops  <PIL.Image.Image image mode=L size=250x250 at ...\n",
       "\n",
       "[200 rows x 2 columns]"
      ]
     },
     "execution_count": 41,
     "metadata": {},
     "output_type": "execute_result"
    }
   ],
   "source": [
    "dino_df = df_image_converter(\"dinopics\")\n",
    "dino_df"
   ]
  },
  {
   "cell_type": "code",
   "execution_count": 42,
   "id": "beec9b4b",
   "metadata": {},
   "outputs": [
    {
     "data": {
      "image/png": "[encoded data removed]",
      "text/plain": [
       "<PIL.Image.Image image mode=L size=250x250>"
      ]
     },
     "execution_count": 42,
     "metadata": {},
     "output_type": "execute_result"
    }
   ],
   "source": [
    "dino_df['Dinosaur Images'].iloc[100]"
   ]
  }
 ],
 "metadata": {
  "kernelspec": {
   "display_name": "Python 3 (ipykernel)",
   "language": "python",
   "name": "python3"
  },
  "language_info": {
   "codemirror_mode": {
    "name": "ipython",
    "version": 3
   },
   "file_extension": ".py",
   "mimetype": "text/x-python",
   "name": "python",
   "nbconvert_exporter": "python",
   "pygments_lexer": "ipython3",
   "version": "3.11.5"
  }
 },
 "nbformat": 4,
 "nbformat_minor": 5
}
